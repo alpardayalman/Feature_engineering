{
 "cells": [
  {
   "cell_type": "markdown",
   "id": "fe3fe58c-b231-4588-b4c4-5ab98b8abec4",
   "metadata": {},
   "source": [
    "# The Bias-Variance Tradeoff\n",
    "\n",
    "When we add the regularization term to our loss function, we are in essence __introducing `bias` into our problem__, i.e., we are biasing our model to have coefficients within the regularization boundary. The greater the alpha, the smaller the coefficients and the more biased the model.\n",
    "\n",
    "For very high values of alpha, while Ridge begins to make most of the coefficients very small, Lasso ends up eliminating all but one feature!\n",
    "\n",
    "Recall that the reason we wanted to perform regularization was to prevent our model from overfitting the data. Such a model is said to have high variance as it is likely fitting for random errors or noise within the data. We introduced the bias term to minimize the variance, but if we’re not careful and allow it to get arbitrarily large, we run the risk of underfitting the model!\n",
    "\n",
    "Ideally we want a machine learning model to have low bias and low variance, i.e., we want it to perform well on training data as well as test data. However, trying to minimize bias and variance simultaneously is a bit of a conundrum as lowering one raises the other! This dilemma in machine learning models is known as the bias-variance tradeoff.\n",
    "\n",
    "Hyperparameter tuning helps us find a sweet spot in this tradeoff to ensure that neither bias nor variance get too high. Typically, a portion of the data is set aside that is known as the “validation set” or “holdout set” (over and above the usual test-train split) and this is used to perform hyperparameter tuning on. We will delve into the ways we can implement this in `scikit-learn`."
   ]
  },
  {
   "cell_type": "code",
   "execution_count": null,
   "id": "e366f91f-c588-4719-9804-d20ec8c295f5",
   "metadata": {},
   "outputs": [],
   "source": []
  }
 ],
 "metadata": {
  "kernelspec": {
   "display_name": "Python 3 (ipykernel)",
   "language": "python",
   "name": "python3"
  },
  "language_info": {
   "codemirror_mode": {
    "name": "ipython",
    "version": 3
   },
   "file_extension": ".py",
   "mimetype": "text/x-python",
   "name": "python",
   "nbconvert_exporter": "python",
   "pygments_lexer": "ipython3",
   "version": "3.10.11"
  }
 },
 "nbformat": 4,
 "nbformat_minor": 5
}
