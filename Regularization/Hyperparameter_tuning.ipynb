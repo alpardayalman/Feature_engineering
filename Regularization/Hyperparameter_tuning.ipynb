{
 "cells": [
  {
   "cell_type": "markdown",
   "id": "85660dfa-410b-4104-9628-df290cc4f86c",
   "metadata": {},
   "source": [
    "# Hyperparameter Tuning\n",
    "\n",
    "`alpha` is what is known as a _hyperparameter_ in machine learning. It is __not learned__ during the __model fitting step__ the way model parameters are. Rather, it’s __chosen prior to fitting__ the model and is used to control the learning process. In regularization, __the choice of alpha determines how much we want to control for overfitting during the model fitting step__.\n",
    "\n",
    "We’re able to do this by using alpha to control the size of the constraint surface and consequently the size of the coefficients themselves. The __larger the alpha, the smaller the size of the allowed coefficients__. In essence, _alpha is inversely proportional to s in the case of L1 regularization or s^2 in the case of L2 regularization_.\n",
    "\n",
    "Consider all possible choices in terms of the size of the constraint boundaries for both types of regularization. In the figures shown to the right, the blue diamonds and the red circles represent the possible choices for s. As we can see, the button “Less Regularization” increases s and the button “More Regularization” decreases s.\n",
    "\n",
    "- If s is very large (i.e., alpha is very small), the unregularized loss function minimum can easily fall within this large boundary and thus make it similar to regression without regularization.\n",
    "\n",
    "- If s is very small (i.e., alpha is very large), the regression coefficients become very small and the loss value for the best fit becomes large making the regression over-regularized.\n",
    "\n",
    "To avoid either of these extreme scenarios, we need to find the right amount of regularization by tuning alpha and this process is known as hyperparameter tuning."
   ]
  }
 ],
 "metadata": {
  "kernelspec": {
   "display_name": "Python 3 (ipykernel)",
   "language": "python",
   "name": "python3"
  },
  "language_info": {
   "codemirror_mode": {
    "name": "ipython",
    "version": 3
   },
   "file_extension": ".py",
   "mimetype": "text/x-python",
   "name": "python",
   "nbconvert_exporter": "python",
   "pygments_lexer": "ipython3",
   "version": "3.10.11"
  }
 },
 "nbformat": 4,
 "nbformat_minor": 5
}
