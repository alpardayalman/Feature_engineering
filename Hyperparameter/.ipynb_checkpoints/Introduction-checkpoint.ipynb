{
 "cells": [
  {
   "cell_type": "markdown",
   "id": "6f8d4b9c-a59e-4225-a07c-4ca24c3bd565",
   "metadata": {},
   "source": [
    "# Hyperparameters in Machine Learning Models\n",
    "## Introduction\n",
    "Hyperparameters are an important part of machine learning. We’re going to explain what exactly they are along with examples of what they look like for different commonly used ML models. You’ll learn why they’re important and how they affect model performance. You’ll also learn about a few hyperparameter tuning methods that you can implement in your own projects.\n",
    "\n",
    "## What are Hyperparameters?\n",
    "A hyperparameter of a machine learning model is a value that determines part of the learning process and is not affected by training unlike a parameter, which is learned during the model training process. You’re probably already familiar with some hyperparameters. Let’s look at some examples.\n",
    "\n",
    "In the k-nearest neighbors algorithm, k is a hyperparameter. k determines how many neighbors will be used, and training data does not change k.\n",
    "\n",
    "Decision trees also use hyperparameters. Before training a decision tree classifier, you might want to specify how deep the tree can go (i.e., how many splits are allowed before arriving at a leaf). You might also want to specify the minimum number of samples that are present in a node in order to split that node. Both of those values are hyperparameters. They determine the structure of the model, but they are not learned during training.\n",
    "\n",
    "Regularization factors are another example. In linear or logistic regression, regularization is a term that is added to the loss function in order to penalize models with large coefficients. (The coefficients are the parameters of the model here! The regularization factor is a hyperparameter. The value of the regularization factor affects how large the coefficients of a regression model will be, but the regularization factor is independent of training data.\n",
    "\n"
   ]
  },
  {
   "cell_type": "code",
   "execution_count": null,
   "id": "070ccf02-8d61-4ccd-9283-dee85d22715d",
   "metadata": {},
   "outputs": [],
   "source": []
  }
 ],
 "metadata": {
  "kernelspec": {
   "display_name": "Python 3 (ipykernel)",
   "language": "python",
   "name": "python3"
  },
  "language_info": {
   "codemirror_mode": {
    "name": "ipython",
    "version": 3
   },
   "file_extension": ".py",
   "mimetype": "text/x-python",
   "name": "python",
   "nbconvert_exporter": "python",
   "pygments_lexer": "ipython3",
   "version": "3.10.11"
  }
 },
 "nbformat": 4,
 "nbformat_minor": 5
}
