{
 "cells": [
  {
   "cell_type": "code",
   "execution_count": 7,
   "id": "e77d00b2-54ef-4707-b8b2-3d2e8b4fb6bf",
   "metadata": {},
   "outputs": [],
   "source": [
    "import pandas as pd\n",
    "\n",
    "df = pd.DataFrame(data={\n",
    "    'edu_goal': ['bachelors', 'bachelors', 'bachelors', 'masters', 'masters', 'masters', 'masters', 'phd', 'phd', 'phd'],\n",
    "    'hours_study': [1, 2, 3, 3, 3, 4, 3, 4, 5, 5],\n",
    "    'hours_TV': [4, 3, 4, 3, 2, 3, 2, 2, 1, 1],\n",
    "    'hours_sleep': [10, 10, 8, 8, 6, 6, 8, 8, 10, 10],\n",
    "    'height_cm': [155, 151, 160, 160, 156, 150, 164, 151, 158, 152],\n",
    "    'grade_level': [8, 8, 8, 8, 8, 8, 8, 8, 8, 8],\n",
    "    'exam_score': [71, 72, 78, 79, 85, 86, 92, 93, 99, 100]\n",
    "})"
   ]
  },
  {
   "cell_type": "code",
   "execution_count": 8,
   "id": "9488ec41-15f1-42fe-bf6b-9e68ea63c653",
   "metadata": {},
   "outputs": [
    {
     "name": "stdout",
     "output_type": "stream",
     "text": [
      "    edu_goal  hours_study  hours_TV  hours_sleep  height_cm  grade_level\n",
      "0  bachelors            1         4           10        155            8\n",
      "1  bachelors            2         3           10        151            8\n",
      "2  bachelors            3         4            8        160            8\n",
      "3    masters            3         3            8        160            8\n",
      "4    masters            3         2            6        156            8\n",
      "5    masters            4         3            6        150            8\n",
      "6    masters            3         2            8        164            8\n",
      "7        phd            4         2            8        151            8\n",
      "8        phd            5         1           10        158            8\n",
      "9        phd            5         1           10        152            8\n"
     ]
    }
   ],
   "source": [
    "X = df.drop(columns=['exam_score'])\n",
    "\n",
    "print(X)"
   ]
  },
  {
   "cell_type": "code",
   "execution_count": 9,
   "id": "7c367645-d598-4c54-b56c-fa675b611910",
   "metadata": {},
   "outputs": [],
   "source": [
    "y = df['exam_score']"
   ]
  },
  {
   "cell_type": "markdown",
   "id": "ecf86dc3-99a7-422a-999b-43a86abe0240",
   "metadata": {},
   "source": [
    "# Variance threshold\n",
    "One of the most basic filter methods is to use a __variance threshold to remove any features that have little to no variation in their values__. This is because features with low variance do __not contribute much information__ to a model. Since variance can only be calculated on numeric values, this method __only works on quantitative features__. That said, we may also want to remove categorical features for which all or a majority of the values are the same. To do that, we would need to dummy code the categorical variables first, but we won’t demonstrate that here."
   ]
  },
  {
   "cell_type": "code",
   "execution_count": 10,
   "id": "f045e820-23f2-42ad-89be-b7019b1aeea2",
   "metadata": {},
   "outputs": [
    {
     "name": "stdout",
     "output_type": "stream",
     "text": [
      "<class 'pandas.core.frame.DataFrame'>\n",
      "RangeIndex: 10 entries, 0 to 9\n",
      "Data columns (total 6 columns):\n",
      " #   Column       Non-Null Count  Dtype \n",
      "---  ------       --------------  ----- \n",
      " 0   edu_goal     10 non-null     object\n",
      " 1   hours_study  10 non-null     int64 \n",
      " 2   hours_TV     10 non-null     int64 \n",
      " 3   hours_sleep  10 non-null     int64 \n",
      " 4   height_cm    10 non-null     int64 \n",
      " 5   grade_level  10 non-null     int64 \n",
      "dtypes: int64(5), object(1)\n",
      "memory usage: 608.0+ bytes\n",
      "None\n"
     ]
    }
   ],
   "source": [
    "print(X.info())"
   ]
  },
  {
   "cell_type": "markdown",
   "id": "d6b38d1e-5c1c-492e-b1c5-5dc79e59a5d6",
   "metadata": {},
   "source": [
    "In our example dataset, `edu_goal` is the only feature that is not numeric. We can use the `.drop()` method to remove it from our features DataFrame and store the remaining numeric features in X_num:"
   ]
  },
  {
   "cell_type": "code",
   "execution_count": 11,
   "id": "9cb011c2-a511-46bf-93b7-e00e7232d048",
   "metadata": {},
   "outputs": [
    {
     "name": "stdout",
     "output_type": "stream",
     "text": [
      "   hours_study  hours_TV  hours_sleep  height_cm  grade_level\n",
      "0            1         4           10        155            8\n",
      "1            2         3           10        151            8\n",
      "2            3         4            8        160            8\n",
      "3            3         3            8        160            8\n",
      "4            3         2            6        156            8\n",
      "5            4         3            6        150            8\n",
      "6            3         2            8        164            8\n",
      "7            4         2            8        151            8\n",
      "8            5         1           10        158            8\n",
      "9            5         1           10        152            8\n"
     ]
    }
   ],
   "source": [
    "X_num = X.drop(columns=['edu_goal'])\n",
    "\n",
    "print(X_num)"
   ]
  },
  {
   "cell_type": "markdown",
   "id": "341cd08c-7d7c-41db-9181-d6537d3f0e76",
   "metadata": {},
   "source": [
    "Now, we’ll be able to use the VarianceThreshold class from scikit-learn to help remove the low-variance features from `X_num`. By default, it __drops all features with zero variance__, but we can adjust the threshold during class instantiation using the threshold parameter if we want to allow some variation. The `.fit_transform()` method returns the filtered features as a numpy array:"
   ]
  },
  {
   "cell_type": "code",
   "execution_count": 12,
   "id": "801c781c-e94c-4608-a0ab-ffec301ac04c",
   "metadata": {},
   "outputs": [
    {
     "name": "stdout",
     "output_type": "stream",
     "text": [
      "[[  1   4  10 155]\n",
      " [  2   3  10 151]\n",
      " [  3   4   8 160]\n",
      " [  3   3   8 160]\n",
      " [  3   2   6 156]\n",
      " [  4   3   6 150]\n",
      " [  3   2   8 164]\n",
      " [  4   2   8 151]\n",
      " [  5   1  10 158]\n",
      " [  5   1  10 152]]\n"
     ]
    }
   ],
   "source": [
    "from sklearn.feature_selection import VarianceThreshold\n",
    "\n",
    "selector = VarianceThreshold(threshold=0)  # 0 is default\n",
    "\n",
    "print(selector.fit_transform(X_num))"
   ]
  },
  {
   "cell_type": "markdown",
   "id": "9a7b66d2-95fa-4de7-b40c-8475578ce0e4",
   "metadata": {},
   "source": [
    "As we can see, grade_level was removed because there is no variation in its values — all students are 8th graders. \n",
    "Since this data is the same across the board, \n",
    "a student’s grade level will not be able to provide any useful predictive information about their exam score, \n",
    "so it makes sense to drop `grade_level` as a feature.\n",
    "\n",
    "Something to note is that loading datasets with scikit-learn generally works with numpy arrays internally, \n",
    "hence the output type of `.fit_transform()`. \n",
    "However, the methods can also accept other data types that can be converted to numpy arrays, such as Python lists or pandas DataFrames, like the `X_num` we used. From a human perspective, one downside of working with numpy arrays as compared to pandas DataFrame is that we lose information like column headings, making the data harder to visually inspect.\n",
    "\n",
    "Luckily, `VarianceThreshold` offers another method called `.get_support()` that can __return the indices__ of the selected features, which we can use to manually subset our numeric features DataFrame.\n",
    "\n",
    "Specify `indices=True` to get indices of selected features:"
   ]
  },
  {
   "cell_type": "code",
   "execution_count": 13,
   "id": "d32eb259-d6de-4f30-8f08-867bc6fd1f2b",
   "metadata": {},
   "outputs": [
    {
     "name": "stdout",
     "output_type": "stream",
     "text": [
      "[0 1 2 3]\n"
     ]
    }
   ],
   "source": [
    "print(selector.get_support(indices=True))"
   ]
  },
  {
   "cell_type": "markdown",
   "id": "b54fd469-3f9d-426f-b683-0595669f874e",
   "metadata": {},
   "source": [
    "Use indices to get the corresponding column names of selected features:"
   ]
  },
  {
   "cell_type": "code",
   "execution_count": 14,
   "id": "75096fa7-b88f-44c9-b83b-3bae39745a7f",
   "metadata": {},
   "outputs": [
    {
     "name": "stdout",
     "output_type": "stream",
     "text": [
      "['hours_study', 'hours_TV', 'hours_sleep', 'height_cm']\n"
     ]
    }
   ],
   "source": [
    "num_cols = list(X_num.columns[selector.get_support(indices=True)])\n",
    "\n",
    "print(num_cols)"
   ]
  },
  {
   "cell_type": "code",
   "execution_count": 15,
   "id": "f4d28bad-ac5e-4cfa-8892-ffe4eb0d19c3",
   "metadata": {},
   "outputs": [
    {
     "name": "stdout",
     "output_type": "stream",
     "text": [
      "   hours_study  hours_TV  hours_sleep  height_cm\n",
      "0            1         4           10        155\n",
      "1            2         3           10        151\n",
      "2            3         4            8        160\n",
      "3            3         3            8        160\n",
      "4            3         2            6        156\n",
      "5            4         3            6        150\n",
      "6            3         2            8        164\n",
      "7            4         2            8        151\n",
      "8            5         1           10        158\n",
      "9            5         1           10        152\n"
     ]
    }
   ],
   "source": [
    "X_num = X_num[num_cols]\n",
    "\n",
    "print(X_num)"
   ]
  },
  {
   "cell_type": "markdown",
   "id": "04b7e077-e657-43aa-bc68-cfdb9bb10d11",
   "metadata": {},
   "source": [
    "Finally, to obtain our entire features DataFrame, including the categorical column `edu_goal`, we could do:"
   ]
  },
  {
   "cell_type": "code",
   "execution_count": 16,
   "id": "b4376348-05d2-4cd9-84cb-1eb3231d8f8a",
   "metadata": {},
   "outputs": [
    {
     "name": "stdout",
     "output_type": "stream",
     "text": [
      "    edu_goal  hours_study  hours_TV  hours_sleep  height_cm\n",
      "0  bachelors            1         4           10        155\n",
      "1  bachelors            2         3           10        151\n",
      "2  bachelors            3         4            8        160\n",
      "3    masters            3         3            8        160\n",
      "4    masters            3         2            6        156\n",
      "5    masters            4         3            6        150\n",
      "6    masters            3         2            8        164\n",
      "7        phd            4         2            8        151\n",
      "8        phd            5         1           10        158\n",
      "9        phd            5         1           10        152\n"
     ]
    }
   ],
   "source": [
    "X = X[['edu_goal'] + num_cols]\n",
    "\n",
    "print(X)"
   ]
  },
  {
   "cell_type": "markdown",
   "id": "076f537a-6358-46d7-8704-49250d1c5830",
   "metadata": {},
   "source": [
    "# Pearson’s correlation\n",
    "Another type of filter method involves finding the correlation between variables. In particular, the Pearson’s correlation coefficient is useful for __measuring the linear relationship between two numeric, continuous variables__ — a coefficient close to 1 represents a positive correlation, -1 represents a negative correlation, and 0 represents no correlation. Like variance, Pearson’s correlation coefficient __cannot be calculated for categorical variables__. Although, there is a related point _biserial correlation coefficient_ that can be computed when one variable is _dichotomous_, but we won’t focus on that here.\n",
    "\n",
    "There are _2 main ways of using correlation for feature selection_ — to __detect correlation between features__ and to __detect correlation between a feature and the target variable__.\n",
    "## Correlation between features\n",
    "\n",
    "When two features are highly correlated with one another, then keeping just one to be used in the model will be enough because otherwise they __provide duplicate information__. The second variable would only be redundant and serve to contribute unnecessary noise.\n",
    "\n",
    "To determine which variables are correlated with one another, we can use the `.corr()` method from pandas to find the correlation coefficient between each pair of numeric features in a DataFrame. By default, `.corr()` computes the Pearson’s correlation coefficient, but alternative methods can be specified using the method parameter. We can visualize the resulting correlation matrix using a heatmap:"
   ]
  },
  {
   "cell_type": "code",
   "execution_count": 18,
   "id": "8858755d-73c0-42da-9768-f084dbd48762",
   "metadata": {},
   "outputs": [
    {
     "data": {
      "image/png": "[encoded data removed]",
      "text/plain": [
       "<Figure size 640x480 with 2 Axes>"
      ]
     },
     "metadata": {},
     "output_type": "display_data"
    }
   ],
   "source": [
    "import matplotlib.pyplot as plt\n",
    "import seaborn as sns\n",
    "\n",
    "corr_matrix = X_num.corr(method='pearson')  # 'pearson' is default\n",
    "\n",
    "sns.heatmap(corr_matrix, annot=True, cmap='RdBu_r')\n",
    "plt.show()"
   ]
  },
  {
   "cell_type": "markdown",
   "id": "efa5d193-c4d0-4486-8f4e-e81b4dfdb961",
   "metadata": {},
   "source": [
    "Let’s define high correlation as having a coefficient of greater than 0.7 or less than -0.7. We can loop through the correlation matrix to identify the highly correlated variables:"
   ]
  },
  {
   "cell_type": "code",
   "execution_count": 19,
   "id": "f927d6b9-59db-4baf-ab86-b3284657f90a",
   "metadata": {},
   "outputs": [
    {
     "name": "stdout",
     "output_type": "stream",
     "text": [
      "hours_TV hours_study -0.780763315142435\n"
     ]
    }
   ],
   "source": [
    "# Loop over bottom diagonal of correlation matrix\n",
    "for i in range(len(corr_matrix.columns)):\n",
    "    for j in range(i):\n",
    "\n",
    "        # Print variables with high correlation\n",
    "        if abs(corr_matrix.iloc[i, j]) > 0.7:\n",
    "            print(corr_matrix.columns[i], corr_matrix.columns[j], corr_matrix.iloc[i, j])"
   ]
  },
  {
   "cell_type": "markdown",
   "id": "30b46ff9-0a62-4168-ab1d-0bd9bf551559",
   "metadata": {},
   "source": [
    "As seen, `hours_TV` appears to be __highly negatively correlated__ with `hours_study` — a student who watches a lot of TV tends to spend fewer hours studying, and vice versa. Because they provide redundant information, we can choose to remove one of those variables. To decide which one, we can look at their correlation with the target variable, then remove the one that is less associated with the target. This is explored in the next section."
   ]
  },
  {
   "cell_type": "markdown",
   "id": "818889eb-48a9-4e81-b720-6e2438cc19ff",
   "metadata": {},
   "source": [
    "# Correlation between feature and target\n",
    "As mentioned, the second way correlation can be used is to __determine__ if there is __a relationship between a feature and the target variable__. In the case of Pearson’s correlation, this is especially __useful__ if we intend __to fit a linear model__, which assumes a linear relationship between the target and predictor variables. If a feature is not very correlated with the target variable, such as having a coefficient of between -0.3 and 0.3, then it may not be very predictive and can potentially be filtered out.\n",
    "\n",
    "We can use the same `.corr()` method seen previously to obtain the correlation between the target variable and the rest of the features. First, we’ll need to create a new DataFrame containing the numeric features with the exam_score column:"
   ]
  },
  {
   "cell_type": "code",
   "execution_count": 20,
   "id": "49283779-da75-425f-9061-4edaa1513e37",
   "metadata": {},
   "outputs": [
    {
     "name": "stdout",
     "output_type": "stream",
     "text": [
      "   hours_study  hours_TV  hours_sleep  height_cm  exam_score\n",
      "0            1         4           10        155          71\n",
      "1            2         3           10        151          72\n",
      "2            3         4            8        160          78\n",
      "3            3         3            8        160          79\n",
      "4            3         2            6        156          85\n",
      "5            4         3            6        150          86\n",
      "6            3         2            8        164          92\n",
      "7            4         2            8        151          93\n",
      "8            5         1           10        158          99\n",
      "9            5         1           10        152         100\n"
     ]
    }
   ],
   "source": [
    "X_y = X_num.copy()\n",
    "X_y['exam_score'] = y\n",
    "\n",
    "print(X_y)"
   ]
  },
  {
   "cell_type": "markdown",
   "id": "9583d802-1af1-4eed-8c02-44fd003083c1",
   "metadata": {},
   "source": [
    "Then, we can generate the correlation matrix and isolate the column corresponding to the target variable to see how strongly each feature is correlated with it:"
   ]
  },
  {
   "cell_type": "code",
   "execution_count": 21,
   "id": "abcb01e9-d03d-4baa-b01c-5362f1c5a470",
   "metadata": {},
   "outputs": [
    {
     "data": {
      "image/png": "[encoded data removed]",
      "text/plain": [
       "<Figure size 640x480 with 2 Axes>"
      ]
     },
     "metadata": {},
     "output_type": "display_data"
    }
   ],
   "source": [
    "corr_matrix = X_y.corr()\n",
    "\n",
    "# Isolate the column corresponding to `exam_score`\n",
    "corr_target = corr_matrix[['exam_score']].drop(labels=['exam_score'])\n",
    "\n",
    "sns.heatmap(corr_target, annot=True, fmt='.3', cmap='RdBu_r')\n",
    "plt.show()"
   ]
  },
  {
   "cell_type": "markdown",
   "id": "7c9bd886-2071-4156-96fb-bca80a26358e",
   "metadata": {},
   "source": [
    "As seen, hours_study is positively correlated with `exam_score` and `hours_TV` is negatively correlated with it. It makes sense that `hours_study` and `hours_TV` would be negatively correlated with each other as we saw earlier, and just one of those features would suffice for predicting exam_score. Since `hours_study` has a stronger correlation with the target variable, let’s `remove hours_TV` as the redundant feature:"
   ]
  },
  {
   "cell_type": "code",
   "execution_count": 22,
   "id": "12c68e1e-8f96-4402-8da2-fd512b89ce74",
   "metadata": {},
   "outputs": [
    {
     "name": "stdout",
     "output_type": "stream",
     "text": [
      "    edu_goal  hours_study  hours_sleep  height_cm\n",
      "0  bachelors            1           10        155\n",
      "1  bachelors            2           10        151\n",
      "2  bachelors            3            8        160\n",
      "3    masters            3            8        160\n",
      "4    masters            3            6        156\n",
      "5    masters            4            6        150\n",
      "6    masters            3            8        164\n",
      "7        phd            4            8        151\n",
      "8        phd            5           10        158\n",
      "9        phd            5           10        152\n"
     ]
    }
   ],
   "source": [
    "X = X.drop(columns=['hours_TV'])\n",
    "\n",
    "print(X)"
   ]
  },
  {
   "cell_type": "markdown",
   "id": "7002019e-d678-4892-a794-076f19cf7be5",
   "metadata": {},
   "source": [
    "The other two features, `hours_sleep` and `height_cm`, both do __not seem to be correlated with `exam_score`__, suggesting they would not be very good predictors. We could potentially remove either or both of them as being uninformative. But before we do, it is a good idea to use other methods to double check that the features truly are not predictive. We will do that in the next section by using __mutual information__ _to see if there are any non-linear associations between the features and target variable_.\n",
    "\n",
    "To conclude this section, we’ll briefly note an alternative approach for assessing the correlation between variables. Instead of generating the full correlation matrix, we could use the `f_regression()` function from `scikit-learn` to find the __F-statistic__ for a model with each predictor on its own. The F-statistic will be larger (and p-value will be smaller) for predictors that are more highly correlated with the target variable, thus it will perform the same filtering:"
   ]
  },
  {
   "cell_type": "code",
   "execution_count": 23,
   "id": "c236b618-c4d2-477c-a16e-c7d4277606b7",
   "metadata": {},
   "outputs": [
    {
     "name": "stdout",
     "output_type": "stream",
     "text": [
      "(array([3.61362007e+01, 3.44537037e+01, 0.00000000e+00, 1.70259066e-03]), array([3.19334945e-04, 3.74322763e-04, 1.00000000e+00, 9.68097878e-01]))\n"
     ]
    }
   ],
   "source": [
    "from sklearn.feature_selection import f_regression\n",
    "\n",
    "print(f_regression(X_num, y))\n"
   ]
  },
  {
   "cell_type": "markdown",
   "id": "7628e2cb-c004-40cb-8461-912a44236ed7",
   "metadata": {},
   "source": [
    "The function returns the `F-statistic` in the __first array__ and the `p-value` in the __second__. As seen, the result is consistent with what we had observed in the correlation matrix — __the stronger the correlation__ (either positive or negative) between the feature and target, the __higher the corresponding F-statistic and lower the p-value__. For example, amongst all the features, `hours_study` has the largest correlation coefficient (0.905), highest F-statistic (3.61e+01), and lowest p-value (3.19e-04)."
   ]
  },
  {
   "cell_type": "markdown",
   "id": "225a33e2-202e-4245-be36-a5692dee5fae",
   "metadata": {},
   "source": [
    "# Mutual information\n",
    "The _final filter method_ we’ll look at is using mutual information to __rank and select the top features__. Mutual information is a __measure of dependence between two variables__ and can be _used to gauge how much a feature contributes to the prediction of the target variable_. It is _similar to Pearson’s correlation_, but is _not limited to detecting linear associations_. This makes mutual information useful for _more flexible models where a linear functional form is not assumed_. Another advantage of mutual information is that it also __works on discrete features or target__, _unlike correlation_. Although, __`categorical` variables need to be numerically encoded first__.\n",
    "\n",
    "In our example, we can encode the `edu_goal` column using the `LabelEncoder` class from `scikit-learn`‘s `preprocessing` module:"
   ]
  },
  {
   "cell_type": "code",
   "execution_count": 24,
   "id": "c5159d62-29ab-4512-bb00-c79c2968cdbb",
   "metadata": {},
   "outputs": [
    {
     "name": "stdout",
     "output_type": "stream",
     "text": [
      "   edu_goal  hours_study  hours_sleep  height_cm\n",
      "0         0            1           10        155\n",
      "1         0            2           10        151\n",
      "2         0            3            8        160\n",
      "3         1            3            8        160\n",
      "4         1            3            6        156\n",
      "5         1            4            6        150\n",
      "6         1            3            8        164\n",
      "7         2            4            8        151\n",
      "8         2            5           10        158\n",
      "9         2            5           10        152\n"
     ]
    }
   ],
   "source": [
    "from sklearn.preprocessing import LabelEncoder\n",
    "\n",
    "le = LabelEncoder()\n",
    "\n",
    "# Create copy of `X` for encoded version\n",
    "X_enc = X.copy()\n",
    "X_enc['edu_goal'] = le.fit_transform(X['edu_goal'])\n",
    "\n",
    "print(X_enc)"
   ]
  },
  {
   "cell_type": "markdown",
   "id": "1e390801-2cef-449b-bbd5-0504cb2ab459",
   "metadata": {},
   "source": [
    "Now, we can compute the mutual information between each feature and `exam_score` using `mutual_info_regression()`. __This function is used because our target variable is continuous__, but _if we had a discrete target variable, we would use `mutual_info_classif()`_. We specify the `random_state` in the function in order obtain `reproducible` results:"
   ]
  },
  {
   "cell_type": "code",
   "execution_count": 27,
   "id": "594d05e9-400b-4cf5-b6b6-cb66177ad2c6",
   "metadata": {},
   "outputs": [
    {
     "name": "stdout",
     "output_type": "stream",
     "text": [
      "[0.50396825 0.40896825 0.         0.        ]\n"
     ]
    }
   ],
   "source": [
    "from sklearn.feature_selection import mutual_info_regression\n",
    "\n",
    "print(mutual_info_regression(X_enc, y, random_state=68))"
   ]
  },
  {
   "cell_type": "markdown",
   "id": "4750cf52-5c72-4e5a-96b5-acbcb6503ecf",
   "metadata": {},
   "source": [
    "The estimated mutual information between each feature and the target is returned in a numpy array, where each value is a non-negative number — __the higher the value, the more predictive power is assumed__.\n",
    "\n",
    "However, we are missing one more important piece here. Earlier, even though we encoded `edu_goal` to be numeric, that does not mean it should be treated as a continuous variable. In other words, the values of `edu_goal` are still discrete and should be interpreted as such. If we plot `edu_goal` against `exam_score` on a graph, we can clearly see the steps between the values of `edu_goal`:"
   ]
  },
  {
   "cell_type": "code",
   "execution_count": 32,
   "id": "d476d8da-55f9-4860-bcf9-4ff30d751fd1",
   "metadata": {},
   "outputs": [
    {
     "data": {
      "image/png": "[encoded data removed]",
      "text/plain": [
       "<Figure size 640x480 with 1 Axes>"
      ]
     },
     "metadata": {},
     "output_type": "display_data"
    }
   ],
   "source": [
    "plt.scatter(X_enc['edu_goal'], y)\n",
    "plt.show()"
   ]
  },
  {
   "cell_type": "markdown",
   "id": "681d6b25-9b82-4213-80cc-77b6d017364a",
   "metadata": {},
   "source": [
    "In order to properly calculate the mutual information, we need to tell `mutual_info_regression()` which features are discrete by providing their index positions using the `discrete_features` parameter:"
   ]
  },
  {
   "cell_type": "code",
   "execution_count": 28,
   "id": "5628e442-2804-47f6-991b-a012406f1242",
   "metadata": {},
   "outputs": [
    {
     "name": "stdout",
     "output_type": "stream",
     "text": [
      "[0.75563492 0.38896825 0.11896825 0.        ]\n"
     ]
    }
   ],
   "source": [
    "print(mutual_info_regression(X_enc, y, discrete_features=[0], random_state=68))\n"
   ]
  },
  {
   "cell_type": "markdown",
   "id": "992b544e-a67a-4bae-a21b-42ad82e29d73",
   "metadata": {},
   "source": [
    "Compared to the earlier results, we now get greater mutual information between `edu_goal` and the target variable once it is __correctly interpreted as a discrete feature__.\n",
    "\n",
    "From the results, we can also see that there is 0 mutual information between `height_cm` and `exam_score`, suggesting that these variables are largely independent. This is consistent with what we saw earlier with Pearson’s correlation, where the correlation coefficient between them is very close to 0 as well.\n",
    "\n",
    "What is interesting to note is that __the mutual information__ between `hours_sleep` and `exam_score` is a __positive value__, even though their Pearson’s correlation coefficient is 0. The answer becomes more clear when we plot the relationship between `hours_sleep` and `exam_score`:"
   ]
  },
  {
   "cell_type": "code",
   "execution_count": 31,
   "id": "30f5e1d4-26e9-4178-b2d7-f2d342f8bb8f",
   "metadata": {},
   "outputs": [
    {
     "data": {
      "image/png": "[encoded data removed]",
      "text/plain": [
       "<Figure size 640x480 with 1 Axes>"
      ]
     },
     "metadata": {},
     "output_type": "display_data"
    }
   ],
   "source": [
    "plt.scatter(X_enc['hours_sleep'], y)\n",
    "plt.show()"
   ]
  },
  {
   "cell_type": "markdown",
   "id": "45ad09c8-07c5-493c-a5ae-cf957d1f8e07",
   "metadata": {},
   "source": [
    "As seen, there do seem to be __some association between the variables__, only it is __not a linear__ one, which is why it was __detected using mutual information but not Pearson’s correlation coefficient__.\n",
    "\n",
    "Finally, let’s look at using the `SelectKBest` class from `scikit-learn` to help __pick out the top k features with the highest ranked__ scores. In our case, we are looking to select __features__ that share __the most mutual information with the target variable__. When we instantiate `SelectKBest`, we’ll specify which __scoring function to use__ and __how many top features to select__. Here, our scoring function is `mutual_info_regression()`, but because we want to specify additional arguments besides the X and y inputs, we’ll need the help of the `partial()` function from Python’s built-in functools module. Then, the `.fit_transform()` method will return the filtered features as a numpy array:"
   ]
  },
  {
   "cell_type": "code",
   "execution_count": 33,
   "id": "b1a91628-87a8-452e-bdc2-ad78d669a0f7",
   "metadata": {},
   "outputs": [
    {
     "name": "stdout",
     "output_type": "stream",
     "text": [
      "[[ 0  1 10]\n",
      " [ 0  2 10]\n",
      " [ 0  3  8]\n",
      " [ 1  3  8]\n",
      " [ 1  3  6]\n",
      " [ 1  4  6]\n",
      " [ 1  3  8]\n",
      " [ 2  4  8]\n",
      " [ 2  5 10]\n",
      " [ 2  5 10]]\n"
     ]
    }
   ],
   "source": [
    "from sklearn.feature_selection import SelectKBest\n",
    "from functools import partial\n",
    "\n",
    "score_func = partial(mutual_info_regression, discrete_features=[0], random_state=68)\n",
    "\n",
    "# Select top 3 features with the most mutual information\n",
    "selection = SelectKBest(score_func=score_func, k=3)\n",
    "\n",
    "print(selection.fit_transform(X_enc, y))"
   ]
  },
  {
   "cell_type": "markdown",
   "id": "1357be3c-e96b-41b5-9b21-7ae93566e5d9",
   "metadata": {},
   "source": [
    "As seen above, we selected the __top 3 features based on mutual information__, thus __dropping height_cm__. Like `VarianceThreshold`, `SelectKBest` also offers the `.get_support()` method that returns the indices of the selected features, so we could subset our original features DataFrame:"
   ]
  },
  {
   "cell_type": "code",
   "execution_count": 34,
   "id": "d1988de3-0b4b-4258-bbd6-c001745b6d28",
   "metadata": {},
   "outputs": [
    {
     "name": "stdout",
     "output_type": "stream",
     "text": [
      "    edu_goal  hours_study  hours_sleep\n",
      "0  bachelors            1           10\n",
      "1  bachelors            2           10\n",
      "2  bachelors            3            8\n",
      "3    masters            3            8\n",
      "4    masters            3            6\n",
      "5    masters            4            6\n",
      "6    masters            3            8\n",
      "7        phd            4            8\n",
      "8        phd            5           10\n",
      "9        phd            5           10\n"
     ]
    }
   ],
   "source": [
    "X = X[X.columns[selection.get_support(indices=True)]]\n",
    "\n",
    "print(X)"
   ]
  },
  {
   "cell_type": "markdown",
   "id": "61aa9852-1cdd-4a22-b9a6-d744d6b8fb4e",
   "metadata": {},
   "source": [
    "# Conclusion\n",
    "In our example dataset, we __started out with 6 features__ for predicting the `exam_score` of students. Using various filter methods, we narrowed down that set to just the top most relevant and informative ones. First, we eliminated `grade_level` because it has __zero variance and would contribute nothing__ to the model. Then, we __dropped__ `hours_TV` since it is __highly correlated with `hours_study`__ and is therefore __redundant__. Lastly, we __filtered out `height_cm` based on mutual information__, which suggested that it does __not have any meaningful association with the target variable__, _linear or otherwise_, and would not have been very predictive."
   ]
  },
  {
   "cell_type": "code",
   "execution_count": null,
   "id": "36ab3ab3-ff94-4d8d-a9b2-0b74d0c6045a",
   "metadata": {},
   "outputs": [],
   "source": []
  }
 ],
 "metadata": {
  "kernelspec": {
   "display_name": "Python 3 (ipykernel)",
   "language": "python",
   "name": "python3"
  },
  "language_info": {
   "codemirror_mode": {
    "name": "ipython",
    "version": 3
   },
   "file_extension": ".py",
   "mimetype": "text/x-python",
   "name": "python",
   "nbconvert_exporter": "python",
   "pygments_lexer": "ipython3",
   "version": "3.10.11"
  }
 },
 "nbformat": 4,
 "nbformat_minor": 5
}
