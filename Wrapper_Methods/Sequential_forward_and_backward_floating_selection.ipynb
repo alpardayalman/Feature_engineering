{
 "cells": [
  {
   "cell_type": "markdown",
   "id": "b5d4d1c6-c836-4f47-84cf-c1e40f770831",
   "metadata": {},
   "source": [
    "# Sequential Forward and Backward Floating Selection"
   ]
  },
  {
   "cell_type": "markdown",
   "id": "5dfa09ed-6460-4a60-8873-9a5cfaa04399",
   "metadata": {},
   "source": [
    "## Sequential forward floating selection\n",
    "Sequential forward floating selection is a __variation of sequential forward selection__. It __starts with zero features__ and adds one feature at a time, just like sequential forward selection, __but after each addition, it checks to see if we can improve performance by _removing_ a feature__.\n",
    "\n",
    "- If performance can’t be improved, the floating algorithm will continue to the next step and add another feature.\n",
    "- If performance can be improved, the algorithm will make the removal that improves performance the most (unless removal of that feature would lead to an infinite loop of adding and removing the same feature over and over again).\n",
    "\n",
    "For example, let’s say that the algorithm has just added weight to the feature set {age, resting_heart_rate}, resulting in the set {age, weight, resting_heart_rate}. The floating algorithm will test whether it can improve performance by removing age or resting_heart_rate. If the removal of age improves performance, then the algorithm will proceed with the set {weight, resting_heart_rate}."
   ]
  },
  {
   "cell_type": "markdown",
   "id": "b75cd810-a518-4fde-a387-5b3e674e7544",
   "metadata": {},
   "source": [
    "## Sequential backward floating selection \n",
    "Sequential backward floating selection works similarly. Starting with all available features, it removes one feature at a time. After each feature removal, it will check to see if any feature additions will improve performance (but it won’t add any features that would result in an infinite loop)."
   ]
  },
  {
   "cell_type": "markdown",
   "id": "0526df4a-c39f-4e98-9e44-fa06258a6dcd",
   "metadata": {},
   "source": [
    "Floating selection algorithms are sometimes preferable to their non-floating counterparts because they test the model on more possible feature subsets. They can detect useful relationships between variables that plain sequential forward and backward selection might miss."
   ]
  },
  {
   "cell_type": "code",
   "execution_count": null,
   "id": "fd393954-5423-49e8-9484-0a5c0b0f148c",
   "metadata": {},
   "outputs": [],
   "source": [
    "import pandas as pd\n",
    "from sklearn.linear_model import LogisticRegression\n",
    "from mlxtend.feature_selection import SequentialFeatureSelector as SFS\n",
    "\n",
    "# Load the data\n",
    "health = pd.read_csv(\"dataR2.csv\")\n",
    "X = health.iloc[:,:-1]\n",
    "y = health.iloc[:,-1]\n",
    "\n",
    "# Logistic regression model\n",
    "lr = LogisticRegression(max_iter=1000)\n",
    "\n",
    "# Sequential forward floating selection\n",
    "sffs = SFS(lr,\n",
    "          k_features=3,\n",
    "          forward=True,\n",
    "          floating=True,\n",
    "          scoring='accuracy',\n",
    "          cv=0)\n",
    "sffs.fit(X, y)\n",
    "\n",
    "# Print a tuple with the names of the features chosen by sequential forward floating selection.\n",
    "print(sffs.subsets_[3]['feature_names'])\n",
    "\n",
    "# Sequential backward floating selection\n",
    "sbfs = SFS(lr,\n",
    "          k_features=3,\n",
    "          forward=False,\n",
    "          floating=True,\n",
    "          scoring='accuracy',\n",
    "          cv=0)\n",
    "sbfs.fit(X, y)\n",
    "print(sbfs.subsets_[3]['feature_names'])\n",
    "# Print a tuple with the names of the features chosen by sequential backward floating selection.\n"
   ]
  }
 ],
 "metadata": {
  "kernelspec": {
   "display_name": "Python 3 (ipykernel)",
   "language": "python",
   "name": "python3"
  },
  "language_info": {
   "codemirror_mode": {
    "name": "ipython",
    "version": 3
   },
   "file_extension": ".py",
   "mimetype": "text/x-python",
   "name": "python",
   "nbconvert_exporter": "python",
   "pygments_lexer": "ipython3",
   "version": "3.10.11"
  }
 },
 "nbformat": 4,
 "nbformat_minor": 5
}
